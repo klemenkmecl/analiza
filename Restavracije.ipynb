{
 "cells": [
  {
   "cell_type": "markdown",
   "metadata": {},
   "source": [
    "Podatki so shranjeni v dveh tabelah. Prva tabela vsebuje id restavracije, ime restavracije, mesto in državo, v kateri se restavracija nahaja, oceno restavracije od 1 do 5, število ocen in cenovni razred od 1 do 4. Druga tabela vsebuje id restavracije in njen tip. Podatke je potrebno shraniti v dveh različnih tabelah, ker ima lahko posamezna restavracija več različnih tipov."
   ]
  },
  {
   "cell_type": "code",
   "execution_count": 1,
   "metadata": {
    "collapsed": false
   },
   "outputs": [],
   "source": [
    "import pandas as pd\n",
    "import matplotlib.pyplot as plt\n",
    "pd.options.display.max_rows = 20\n",
    "%matplotlib inline\n",
    "\n",
    "restavracije = pd.read_csv('tabela_restavracij.csv')\n",
    "tipi = pd.read_csv('tabela_tipov.csv')"
   ]
  },
  {
   "cell_type": "code",
   "execution_count": 12,
   "metadata": {
    "collapsed": false,
    "scrolled": true
   },
   "outputs": [
    {
     "data": {
      "text/html": [
       "<div>\n",
       "<table border=\"1\" class=\"dataframe\">\n",
       "  <thead>\n",
       "    <tr style=\"text-align: right;\">\n",
       "      <th></th>\n",
       "      <th>id</th>\n",
       "      <th>Ime restavracije</th>\n",
       "      <th>Mesto</th>\n",
       "      <th>Država</th>\n",
       "      <th>Ocena</th>\n",
       "      <th>Število ocen</th>\n",
       "      <th>Cena</th>\n",
       "    </tr>\n",
       "  </thead>\n",
       "  <tbody>\n",
       "    <tr>\n",
       "      <th>0</th>\n",
       "      <td>1</td>\n",
       "      <td>Adelaide Central Market</td>\n",
       "      <td>Adelaide</td>\n",
       "      <td>AUSTRALIA</td>\n",
       "      <td>4.5</td>\n",
       "      <td>77</td>\n",
       "      <td>1</td>\n",
       "    </tr>\n",
       "    <tr>\n",
       "      <th>1</th>\n",
       "      <td>2</td>\n",
       "      <td>Jamie’s Italian</td>\n",
       "      <td>Adelaide</td>\n",
       "      <td>AUSTRALIA</td>\n",
       "      <td>3.0</td>\n",
       "      <td>68</td>\n",
       "      <td>2</td>\n",
       "    </tr>\n",
       "    <tr>\n",
       "      <th>2</th>\n",
       "      <td>3</td>\n",
       "      <td>Bread &amp;amp; Bone Wood Grill</td>\n",
       "      <td>Adelaide</td>\n",
       "      <td>AUSTRALIA</td>\n",
       "      <td>4.0</td>\n",
       "      <td>52</td>\n",
       "      <td>2</td>\n",
       "    </tr>\n",
       "    <tr>\n",
       "      <th>3</th>\n",
       "      <td>4</td>\n",
       "      <td>Burger Theory</td>\n",
       "      <td>Adelaide</td>\n",
       "      <td>AUSTRALIA</td>\n",
       "      <td>3.5</td>\n",
       "      <td>45</td>\n",
       "      <td>1</td>\n",
       "    </tr>\n",
       "    <tr>\n",
       "      <th>4</th>\n",
       "      <td>5</td>\n",
       "      <td>Etica Ethical Pizzeria &amp;amp; Mozzarella Bar</td>\n",
       "      <td>Adelaide</td>\n",
       "      <td>AUSTRALIA</td>\n",
       "      <td>4.5</td>\n",
       "      <td>42</td>\n",
       "      <td>2</td>\n",
       "    </tr>\n",
       "    <tr>\n",
       "      <th>5</th>\n",
       "      <td>6</td>\n",
       "      <td>Press Food &amp;amp; Wine</td>\n",
       "      <td>Adelaide</td>\n",
       "      <td>AUSTRALIA</td>\n",
       "      <td>4.0</td>\n",
       "      <td>42</td>\n",
       "      <td>3</td>\n",
       "    </tr>\n",
       "    <tr>\n",
       "      <th>6</th>\n",
       "      <td>7</td>\n",
       "      <td>Hey Jupiter</td>\n",
       "      <td>Adelaide</td>\n",
       "      <td>AUSTRALIA</td>\n",
       "      <td>4.0</td>\n",
       "      <td>40</td>\n",
       "      <td>2</td>\n",
       "    </tr>\n",
       "    <tr>\n",
       "      <th>7</th>\n",
       "      <td>8</td>\n",
       "      <td>Cafe Troppo</td>\n",
       "      <td>Adelaide</td>\n",
       "      <td>AUSTRALIA</td>\n",
       "      <td>4.0</td>\n",
       "      <td>41</td>\n",
       "      <td>1</td>\n",
       "    </tr>\n",
       "    <tr>\n",
       "      <th>8</th>\n",
       "      <td>9</td>\n",
       "      <td>Coffee Branch</td>\n",
       "      <td>Adelaide</td>\n",
       "      <td>AUSTRALIA</td>\n",
       "      <td>4.5</td>\n",
       "      <td>38</td>\n",
       "      <td>1</td>\n",
       "    </tr>\n",
       "    <tr>\n",
       "      <th>9</th>\n",
       "      <td>10</td>\n",
       "      <td>Mandoo</td>\n",
       "      <td>Adelaide</td>\n",
       "      <td>AUSTRALIA</td>\n",
       "      <td>4.5</td>\n",
       "      <td>41</td>\n",
       "      <td>2</td>\n",
       "    </tr>\n",
       "    <tr>\n",
       "      <th>...</th>\n",
       "      <td>...</td>\n",
       "      <td>...</td>\n",
       "      <td>...</td>\n",
       "      <td>...</td>\n",
       "      <td>...</td>\n",
       "      <td>...</td>\n",
       "      <td>...</td>\n",
       "    </tr>\n",
       "    <tr>\n",
       "      <th>10059</th>\n",
       "      <td>10060</td>\n",
       "      <td>Kuroge Wagyu Burger BLACOWS</td>\n",
       "      <td>東京</td>\n",
       "      <td>JAPAN</td>\n",
       "      <td>4.0</td>\n",
       "      <td>45</td>\n",
       "      <td>2</td>\n",
       "    </tr>\n",
       "    <tr>\n",
       "      <th>10060</th>\n",
       "      <td>10061</td>\n",
       "      <td>Tsurutontan Roppongi</td>\n",
       "      <td>東京</td>\n",
       "      <td>JAPAN</td>\n",
       "      <td>4.0</td>\n",
       "      <td>36</td>\n",
       "      <td>1</td>\n",
       "    </tr>\n",
       "    <tr>\n",
       "      <th>10061</th>\n",
       "      <td>10062</td>\n",
       "      <td>Clinton Street Baking Company Tokyo</td>\n",
       "      <td>東京</td>\n",
       "      <td>JAPAN</td>\n",
       "      <td>4.0</td>\n",
       "      <td>36</td>\n",
       "      <td>2</td>\n",
       "    </tr>\n",
       "    <tr>\n",
       "      <th>10062</th>\n",
       "      <td>10063</td>\n",
       "      <td>Dhaba India</td>\n",
       "      <td>東京</td>\n",
       "      <td>JAPAN</td>\n",
       "      <td>4.5</td>\n",
       "      <td>39</td>\n",
       "      <td>2</td>\n",
       "    </tr>\n",
       "    <tr>\n",
       "      <th>10063</th>\n",
       "      <td>10064</td>\n",
       "      <td>Yakiniku Izakaya Han no Daidokoro Dōgenzaka</td>\n",
       "      <td>東京</td>\n",
       "      <td>JAPAN</td>\n",
       "      <td>4.5</td>\n",
       "      <td>37</td>\n",
       "      <td>3</td>\n",
       "    </tr>\n",
       "    <tr>\n",
       "      <th>10064</th>\n",
       "      <td>10065</td>\n",
       "      <td>Nabezo Shinjuku 3 Chome</td>\n",
       "      <td>東京</td>\n",
       "      <td>JAPAN</td>\n",
       "      <td>4.5</td>\n",
       "      <td>34</td>\n",
       "      <td>2</td>\n",
       "    </tr>\n",
       "    <tr>\n",
       "      <th>10065</th>\n",
       "      <td>10066</td>\n",
       "      <td>Ippudo Ebisu</td>\n",
       "      <td>東京</td>\n",
       "      <td>JAPAN</td>\n",
       "      <td>4.5</td>\n",
       "      <td>35</td>\n",
       "      <td>1</td>\n",
       "    </tr>\n",
       "    <tr>\n",
       "      <th>10066</th>\n",
       "      <td>10067</td>\n",
       "      <td>Hungry Heaven Meguro</td>\n",
       "      <td>東京</td>\n",
       "      <td>JAPAN</td>\n",
       "      <td>4.5</td>\n",
       "      <td>37</td>\n",
       "      <td>1</td>\n",
       "    </tr>\n",
       "    <tr>\n",
       "      <th>10067</th>\n",
       "      <td>10068</td>\n",
       "      <td>JOMON ROPPONGI</td>\n",
       "      <td>東京</td>\n",
       "      <td>JAPAN</td>\n",
       "      <td>4.5</td>\n",
       "      <td>37</td>\n",
       "      <td>2</td>\n",
       "    </tr>\n",
       "    <tr>\n",
       "      <th>10068</th>\n",
       "      <td>10069</td>\n",
       "      <td>Sushisho Masa</td>\n",
       "      <td>東京</td>\n",
       "      <td>JAPAN</td>\n",
       "      <td>5.0</td>\n",
       "      <td>33</td>\n",
       "      <td>4</td>\n",
       "    </tr>\n",
       "  </tbody>\n",
       "</table>\n",
       "<p>10069 rows × 7 columns</p>\n",
       "</div>"
      ],
      "text/plain": [
       "          id                             Ime restavracije     Mesto  \\\n",
       "0          1                      Adelaide Central Market  Adelaide   \n",
       "1          2                              Jamie’s Italian  Adelaide   \n",
       "2          3                  Bread &amp; Bone Wood Grill  Adelaide   \n",
       "3          4                                Burger Theory  Adelaide   \n",
       "4          5  Etica Ethical Pizzeria &amp; Mozzarella Bar  Adelaide   \n",
       "5          6                        Press Food &amp; Wine  Adelaide   \n",
       "6          7                                  Hey Jupiter  Adelaide   \n",
       "7          8                                  Cafe Troppo  Adelaide   \n",
       "8          9                                Coffee Branch  Adelaide   \n",
       "9         10                                       Mandoo  Adelaide   \n",
       "...      ...                                          ...       ...   \n",
       "10059  10060                  Kuroge Wagyu Burger BLACOWS        東京   \n",
       "10060  10061                         Tsurutontan Roppongi        東京   \n",
       "10061  10062          Clinton Street Baking Company Tokyo        東京   \n",
       "10062  10063                                  Dhaba India        東京   \n",
       "10063  10064  Yakiniku Izakaya Han no Daidokoro Dōgenzaka        東京   \n",
       "10064  10065                      Nabezo Shinjuku 3 Chome        東京   \n",
       "10065  10066                                 Ippudo Ebisu        東京   \n",
       "10066  10067                         Hungry Heaven Meguro        東京   \n",
       "10067  10068                               JOMON ROPPONGI        東京   \n",
       "10068  10069                                Sushisho Masa        東京   \n",
       "\n",
       "          Država  Ocena  Število ocen  Cena  \n",
       "0      AUSTRALIA    4.5            77     1  \n",
       "1      AUSTRALIA    3.0            68     2  \n",
       "2      AUSTRALIA    4.0            52     2  \n",
       "3      AUSTRALIA    3.5            45     1  \n",
       "4      AUSTRALIA    4.5            42     2  \n",
       "5      AUSTRALIA    4.0            42     3  \n",
       "6      AUSTRALIA    4.0            40     2  \n",
       "7      AUSTRALIA    4.0            41     1  \n",
       "8      AUSTRALIA    4.5            38     1  \n",
       "9      AUSTRALIA    4.5            41     2  \n",
       "...          ...    ...           ...   ...  \n",
       "10059      JAPAN    4.0            45     2  \n",
       "10060      JAPAN    4.0            36     1  \n",
       "10061      JAPAN    4.0            36     2  \n",
       "10062      JAPAN    4.5            39     2  \n",
       "10063      JAPAN    4.5            37     3  \n",
       "10064      JAPAN    4.5            34     2  \n",
       "10065      JAPAN    4.5            35     1  \n",
       "10066      JAPAN    4.5            37     1  \n",
       "10067      JAPAN    4.5            37     2  \n",
       "10068      JAPAN    5.0            33     4  \n",
       "\n",
       "[10069 rows x 7 columns]"
      ]
     },
     "execution_count": 12,
     "metadata": {},
     "output_type": "execute_result"
    }
   ],
   "source": [
    "restavracije"
   ]
  },
  {
   "cell_type": "code",
   "execution_count": 3,
   "metadata": {
    "collapsed": false
   },
   "outputs": [
    {
     "data": {
      "text/html": [
       "<div>\n",
       "<table border=\"1\" class=\"dataframe\">\n",
       "  <thead>\n",
       "    <tr style=\"text-align: right;\">\n",
       "      <th></th>\n",
       "      <th>id</th>\n",
       "      <th>Tip restavracije</th>\n",
       "    </tr>\n",
       "  </thead>\n",
       "  <tbody>\n",
       "    <tr>\n",
       "      <th>0</th>\n",
       "      <td>1</td>\n",
       "      <td>Food Court</td>\n",
       "    </tr>\n",
       "    <tr>\n",
       "      <th>1</th>\n",
       "      <td>1</td>\n",
       "      <td>Fruits &amp; Veggies</td>\n",
       "    </tr>\n",
       "    <tr>\n",
       "      <th>2</th>\n",
       "      <td>1</td>\n",
       "      <td>Health Markets</td>\n",
       "    </tr>\n",
       "    <tr>\n",
       "      <th>3</th>\n",
       "      <td>2</td>\n",
       "      <td>Italian</td>\n",
       "    </tr>\n",
       "    <tr>\n",
       "      <th>4</th>\n",
       "      <td>3</td>\n",
       "      <td>American (Traditional)</td>\n",
       "    </tr>\n",
       "    <tr>\n",
       "      <th>5</th>\n",
       "      <td>3</td>\n",
       "      <td>Burgers</td>\n",
       "    </tr>\n",
       "    <tr>\n",
       "      <th>6</th>\n",
       "      <td>4</td>\n",
       "      <td>Burgers</td>\n",
       "    </tr>\n",
       "    <tr>\n",
       "      <th>7</th>\n",
       "      <td>4</td>\n",
       "      <td>American (Traditional)</td>\n",
       "    </tr>\n",
       "    <tr>\n",
       "      <th>8</th>\n",
       "      <td>4</td>\n",
       "      <td>Street Vendors</td>\n",
       "    </tr>\n",
       "    <tr>\n",
       "      <th>9</th>\n",
       "      <td>5</td>\n",
       "      <td>Italian</td>\n",
       "    </tr>\n",
       "    <tr>\n",
       "      <th>...</th>\n",
       "      <td>...</td>\n",
       "      <td>...</td>\n",
       "    </tr>\n",
       "    <tr>\n",
       "      <th>21504</th>\n",
       "      <td>10064</td>\n",
       "      <td>Korean</td>\n",
       "    </tr>\n",
       "    <tr>\n",
       "      <th>21505</th>\n",
       "      <td>10064</td>\n",
       "      <td>Yakiniku</td>\n",
       "    </tr>\n",
       "    <tr>\n",
       "      <th>21506</th>\n",
       "      <td>10064</td>\n",
       "      <td>Horumon</td>\n",
       "    </tr>\n",
       "    <tr>\n",
       "      <th>21507</th>\n",
       "      <td>10065</td>\n",
       "      <td>Sukiyaki</td>\n",
       "    </tr>\n",
       "    <tr>\n",
       "      <th>21508</th>\n",
       "      <td>10065</td>\n",
       "      <td>Hot Pot</td>\n",
       "    </tr>\n",
       "    <tr>\n",
       "      <th>21509</th>\n",
       "      <td>10066</td>\n",
       "      <td>Ramen</td>\n",
       "    </tr>\n",
       "    <tr>\n",
       "      <th>21510</th>\n",
       "      <td>10067</td>\n",
       "      <td>Burgers</td>\n",
       "    </tr>\n",
       "    <tr>\n",
       "      <th>21511</th>\n",
       "      <td>10068</td>\n",
       "      <td>Izakaya</td>\n",
       "    </tr>\n",
       "    <tr>\n",
       "      <th>21512</th>\n",
       "      <td>10068</td>\n",
       "      <td>Sukiyaki</td>\n",
       "    </tr>\n",
       "    <tr>\n",
       "      <th>21513</th>\n",
       "      <td>10069</td>\n",
       "      <td>Sushi Bars</td>\n",
       "    </tr>\n",
       "  </tbody>\n",
       "</table>\n",
       "<p>21514 rows × 2 columns</p>\n",
       "</div>"
      ],
      "text/plain": [
       "          id        Tip restavracije\n",
       "0          1              Food Court\n",
       "1          1        Fruits & Veggies\n",
       "2          1          Health Markets\n",
       "3          2                 Italian\n",
       "4          3  American (Traditional)\n",
       "5          3                 Burgers\n",
       "6          4                 Burgers\n",
       "7          4  American (Traditional)\n",
       "8          4          Street Vendors\n",
       "9          5                 Italian\n",
       "...      ...                     ...\n",
       "21504  10064                  Korean\n",
       "21505  10064                Yakiniku\n",
       "21506  10064                 Horumon\n",
       "21507  10065                Sukiyaki\n",
       "21508  10065                 Hot Pot\n",
       "21509  10066                   Ramen\n",
       "21510  10067                 Burgers\n",
       "21511  10068                 Izakaya\n",
       "21512  10068                Sukiyaki\n",
       "21513  10069              Sushi Bars\n",
       "\n",
       "[21514 rows x 2 columns]"
      ]
     },
     "execution_count": 3,
     "metadata": {},
     "output_type": "execute_result"
    }
   ],
   "source": [
    "tipi"
   ]
  },
  {
   "cell_type": "markdown",
   "metadata": {},
   "source": [
    "Vsaka restavracija spada v določen cenovni razred od 1 do 4 in vsak gost lahko oceni restavracijo z 1 do 5 zvezdicami. Zanima nas ali cena restavracije vpliva na višino ocene. Za vsak cenovni razred izračunamo povprečno oceno."
   ]
  },
  {
   "cell_type": "code",
   "execution_count": 4,
   "metadata": {
    "collapsed": false
   },
   "outputs": [
    {
     "data": {
      "text/plain": [
       "<matplotlib.axes._subplots.AxesSubplot at 0x4f0bda6d30>"
      ]
     },
     "execution_count": 4,
     "metadata": {},
     "output_type": "execute_result"
    },
    {
     "data": {
      "image/png": "[encoded data removed]",
      "text/plain": [
       "<matplotlib.figure.Figure at 0x4f0b439208>"
      ]
     },
     "metadata": {},
     "output_type": "display_data"
    }
   ],
   "source": [
    "po_ceni = restavracije[['Ocena', 'Cena']].groupby('Cena').mean()\n",
    "po_ceni.plot(kind='bar')"
   ]
  },
  {
   "cell_type": "markdown",
   "metadata": {},
   "source": [
    "Zanima nas kateri tipi restavracij so najpogostejši:"
   ]
  },
  {
   "cell_type": "code",
   "execution_count": 7,
   "metadata": {
    "collapsed": false
   },
   "outputs": [
    {
     "data": {
      "text/plain": [
       "Tip restavracije\n",
       "American (New)            1493\n",
       "Breakfast & Brunch        1291\n",
       "American (Traditional)     903\n",
       "Seafood                    864\n",
       "Italian                    774\n",
       "Bars                       760\n",
       "Burgers                    639\n",
       "Mexican                    598\n",
       "Sandwiches                 584\n",
       "Pizza                      578\n",
       "Japanese                   548\n",
       "Sushi Bars                 488\n",
       "Cafes                      450\n",
       "Steakhouses                410\n",
       "Asian Fusion               347\n",
       "Cocktail Bars              346\n",
       "Wine Bars                  332\n",
       "French                     319\n",
       "Mediterranean              303\n",
       "Barbeque                   301\n",
       "Name: id, dtype: int64"
      ]
     },
     "execution_count": 7,
     "metadata": {},
     "output_type": "execute_result"
    }
   ],
   "source": [
    "sestavljena = pd.merge(restavracije, tipi)\n",
    "pogostost = sestavljena.groupby('Tip restavracije').count()['id'].sort_values(ascending=False)\n",
    "pogostost[:20]"
   ]
  },
  {
   "cell_type": "markdown",
   "metadata": {},
   "source": [
    "Poleg tega nas zanima tudi zastopanost tipov v posameznih državah. Kateri tip restavracije je na primer v posamezni državi najbolj zastopan?"
   ]
  },
  {
   "cell_type": "code",
   "execution_count": 8,
   "metadata": {
    "collapsed": false
   },
   "outputs": [
    {
     "data": {
      "text/plain": [
       "Država\n",
       "ARGENTINA               Argentine\n",
       "AUSTRALIA                    Bars\n",
       "AUSTRIA                  Austrian\n",
       "AZ                 American (New)\n",
       "BELGIUM                   Belgian\n",
       "BRAZIL                  Brazilian\n",
       "CA                 American (New)\n",
       "CANADA             Canadian (New)\n",
       "CHILE                     Chilean\n",
       "CO                 American (New)\n",
       "                      ...        \n",
       "SWITZERLAND                  Bars\n",
       "TAIWAN                  Taiwanese\n",
       "TN                       Southern\n",
       "TURKEY                    Turkish\n",
       "TX                 American (New)\n",
       "UT             Breakfast & Brunch\n",
       "VA                 American (New)\n",
       "VT                 American (New)\n",
       "WA                 American (New)\n",
       "WI                 American (New)\n",
       "dtype: object"
      ]
     },
     "execution_count": 8,
     "metadata": {},
     "output_type": "execute_result"
    }
   ],
   "source": [
    "zastopanost_tipov = sestavljena.groupby(['Država', 'Tip restavracije']).size()\n",
    "matrika_zastopanosti = zastopanost_tipov.unstack()\n",
    "matrika_zastopanosti.idxmax(axis=1)"
   ]
  },
  {
   "cell_type": "markdown",
   "metadata": {},
   "source": [
    "Restavracije so najdražje v Čilu in najcenejše na Japonskem. Najbolje so bile ocenjene na Japonskem in najslabše v ameriški zvezni državi New Jersey."
   ]
  },
  {
   "cell_type": "code",
   "execution_count": 64,
   "metadata": {
    "collapsed": false
   },
   "outputs": [
    {
     "data": {
      "text/plain": [
       "Država\n",
       "CHILE          2.560000\n",
       "FRANCE         2.420000\n",
       "PHILIPPINES    2.347826\n",
       "FINLAND        2.300000\n",
       "BRAZIL         2.290000\n",
       "SINGAPORE      2.260000\n",
       "BELGIUM        2.230000\n",
       "CANADA         2.222857\n",
       "DC             2.220000\n",
       "SWEDEN         2.220000\n",
       "                 ...   \n",
       "NM             1.900000\n",
       "IN             1.890000\n",
       "NC             1.886667\n",
       "TURKEY         1.880000\n",
       "IA             1.860000\n",
       "UT             1.820000\n",
       "SPAIN          1.760000\n",
       "POLAND         1.730000\n",
       "DENMARK        1.700000\n",
       "JAPAN          1.610000\n",
       "Name: Cena, dtype: float64"
      ]
     },
     "execution_count": 64,
     "metadata": {},
     "output_type": "execute_result"
    }
   ],
   "source": [
    "restavracije.groupby('Država').mean()['Cena'].sort_values(ascending=False)"
   ]
  },
  {
   "cell_type": "code",
   "execution_count": 9,
   "metadata": {
    "collapsed": false
   },
   "outputs": [
    {
     "data": {
      "text/plain": [
       "Država\n",
       "JAPAN          4.400000\n",
       "TURKEY         4.340000\n",
       "PHILIPPINES    4.282609\n",
       "PORTUGAL       4.280000\n",
       "TAIWAN         4.230000\n",
       "SPAIN          4.225000\n",
       "ITALY          4.215000\n",
       "BRAZIL         4.200000\n",
       "CHILE          4.190000\n",
       "KY             4.180000\n",
       "                 ...   \n",
       "MA             3.916667\n",
       "MALAYSIA       3.916667\n",
       "VA             3.893333\n",
       "IL             3.848000\n",
       "WA             3.843333\n",
       "CA             3.837823\n",
       "IA             3.830000\n",
       "MI             3.820000\n",
       "CT             3.805000\n",
       "NJ             3.670000\n",
       "Name: Ocena, dtype: float64"
      ]
     },
     "execution_count": 9,
     "metadata": {},
     "output_type": "execute_result"
    }
   ],
   "source": [
    "restavracije.groupby('Država').mean()['Ocena'].sort_values(ascending=False)"
   ]
  },
  {
   "cell_type": "markdown",
   "metadata": {},
   "source": [
    "Najbolje ocenjeni in najdražji tipi restavracij:"
   ]
  },
  {
   "cell_type": "code",
   "execution_count": 9,
   "metadata": {
    "collapsed": false
   },
   "outputs": [
    {
     "data": {
      "text/plain": [
       "Tip restavracije\n",
       "Yakiniku            4.80\n",
       "Horumon             4.75\n",
       "Imported Food       4.75\n",
       "Kaiseki             4.50\n",
       "Dumplings           4.50\n",
       "Tablao Flamenco     4.50\n",
       "Syrian              4.50\n",
       "Friterie            4.50\n",
       "Fruits & Veggies    4.50\n",
       "Galician            4.50\n",
       "Georgian            4.50\n",
       "Guest Houses        4.50\n",
       "Hawker Centre       4.50\n",
       "South African       4.50\n",
       "Soba                4.50\n",
       "Hostels             4.50\n",
       "Custom Cakes        4.50\n",
       "Internet Cafes      4.50\n",
       "Shopping            4.50\n",
       "Kopitiam            4.50\n",
       "Name: Ocena, dtype: float64"
      ]
     },
     "execution_count": 9,
     "metadata": {},
     "output_type": "execute_result"
    }
   ],
   "source": [
    "ocene_tipov = sestavljena.groupby('Tip restavracije').mean()['Ocena'].sort_values(ascending=False)\n",
    "ocene_tipov[:20]"
   ]
  },
  {
   "cell_type": "code",
   "execution_count": 11,
   "metadata": {
    "collapsed": false
   },
   "outputs": [
    {
     "data": {
      "text/plain": [
       "Tip restavracije\n",
       "Rodizios                3.666667\n",
       "Dinner Theater          3.500000\n",
       "Lumbard                 3.000000\n",
       "Sardinian               3.000000\n",
       "Northern German         3.000000\n",
       "Speakeasies             3.000000\n",
       "Guest Houses            3.000000\n",
       "Oaxacan                 3.000000\n",
       "Nikkei                  3.000000\n",
       "Cooking Schools         3.000000\n",
       "Tablao Flamenco         3.000000\n",
       "Arroceria / Paella      3.000000\n",
       "Wine Tasting Classes    3.000000\n",
       "Nightlife               3.000000\n",
       "Chilean                 2.888889\n",
       "Hotels                  2.833333\n",
       "Steakhouses             2.807317\n",
       "Performing Arts         2.800000\n",
       "Fondue                  2.769231\n",
       "Modern Australian       2.764706\n",
       "Name: Cena, dtype: float64"
      ]
     },
     "execution_count": 11,
     "metadata": {},
     "output_type": "execute_result"
    }
   ],
   "source": [
    "cenovni_razredi_tipov = sestavljena.groupby('Tip restavracije').mean()['Cena'].sort_values(ascending=False)\n",
    "cenovni_razredi_tipov[:20]"
   ]
  },
  {
   "cell_type": "markdown",
   "metadata": {},
   "source": [
    "Abscisna os predstavlja število restavracij posameznega tipa, ordinatna os pa povprečno oceno restavracij posameznega tipa restavracije. Vidimo, da so bili najpogostejši tipi ocenjeni z oceno okrog 4."
   ]
  },
  {
   "cell_type": "code",
   "execution_count": 62,
   "metadata": {
    "collapsed": false
   },
   "outputs": [
    {
     "data": {
      "text/plain": [
       "<matplotlib.axes._subplots.AxesSubplot at 0x8052bc1358>"
      ]
     },
     "execution_count": 62,
     "metadata": {},
     "output_type": "execute_result"
    },
    {
     "data": {
      "image/png": "[encoded data removed]",
      "text/plain": [
       "<matplotlib.figure.Figure at 0x8052b6dc18>"
      ]
     },
     "metadata": {},
     "output_type": "display_data"
    }
   ],
   "source": [
    "tabela_ocen_tipov = pd.DataFrame({'Tip restavracije':ocene_tipov.index, 'Povprečna ocena':ocene_tipov.values})\n",
    "tabela_pogostosti = pd.DataFrame({'Tip restavracije':pogostost.index, 'Število':pogostost.values})\n",
    "pd.merge(tabela_ocen_tipov, tabela_pogostosti).sort_values('Število', ascending=False).plot.scatter(x='Povprečna ocena', y='Število')"
   ]
  },
  {
   "cell_type": "code",
   "execution_count": null,
   "metadata": {
    "collapsed": false
   },
   "outputs": [],
   "source": []
  }
 ],
 "metadata": {
  "kernelspec": {
   "display_name": "Python 3",
   "language": "python",
   "name": "python3"
  },
  "language_info": {
   "codemirror_mode": {
    "name": "ipython",
    "version": 3
   },
   "file_extension": ".py",
   "mimetype": "text/x-python",
   "name": "python",
   "nbconvert_exporter": "python",
   "pygments_lexer": "ipython3",
   "version": "3.5.1"
  }
 },
 "nbformat": 4,
 "nbformat_minor": 1
}
