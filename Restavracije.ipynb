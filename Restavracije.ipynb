{
 "cells": [
  {
   "cell_type": "markdown",
   "metadata": {},
   "source": [
    "Podatki so shranjeni v dveh tabelah. Prva tabela vsebuje id restavracije, ime restavracije, mesto in državo, v kateri se restavracija nahaja, oceno restavracije od 1 do 5, število ocen in cenovni razred od 1 do 4. Druga tabela vsebuje id restavracije in njen tip. Podatke je potrebno shraniti v dveh različnih tabelah, ker ima lahko posamezna restavracija več različnih tipov."
   ]
  },
  {
   "cell_type": "code",
   "execution_count": 2,
   "metadata": {
    "collapsed": false
   },
   "outputs": [],
   "source": [
    "import pandas as pd\n",
    "import matplotlib.pyplot as plt\n",
    "pd.options.display.max_rows = 20\n",
    "%matplotlib inline\n",
    "\n",
    "restavracije = pd.read_csv('tabela_restavracij.csv')\n",
    "tipi = pd.read_csv('tabela_tipov.csv')"
   ]
  },
  {
   "cell_type": "code",
   "execution_count": 4,
   "metadata": {
    "collapsed": false,
    "scrolled": true
   },
   "outputs": [
    {
     "data": {
      "text/html": [
       "<div>\n",
       "<table border=\"1\" class=\"dataframe\">\n",
       "  <thead>\n",
       "    <tr style=\"text-align: right;\">\n",
       "      <th></th>\n",
       "      <th>id</th>\n",
       "      <th>Ime restavracije</th>\n",
       "      <th>Mesto</th>\n",
       "      <th>Država</th>\n",
       "      <th>Ocena</th>\n",
       "      <th>Število ocen</th>\n",
       "      <th>Cena</th>\n",
       "    </tr>\n",
       "  </thead>\n",
       "  <tbody>\n",
       "    <tr>\n",
       "      <th>0</th>\n",
       "      <td>1</td>\n",
       "      <td>Adelaide Central Market</td>\n",
       "      <td>Adelaide</td>\n",
       "      <td>AUSTRALIA</td>\n",
       "      <td>4.5</td>\n",
       "      <td>77</td>\n",
       "      <td>1</td>\n",
       "    </tr>\n",
       "    <tr>\n",
       "      <th>1</th>\n",
       "      <td>2</td>\n",
       "      <td>Jamie’s Italian</td>\n",
       "      <td>Adelaide</td>\n",
       "      <td>AUSTRALIA</td>\n",
       "      <td>3.0</td>\n",
       "      <td>68</td>\n",
       "      <td>2</td>\n",
       "    </tr>\n",
       "    <tr>\n",
       "      <th>2</th>\n",
       "      <td>3</td>\n",
       "      <td>Bread &amp; Bone Wood Grill</td>\n",
       "      <td>Adelaide</td>\n",
       "      <td>AUSTRALIA</td>\n",
       "      <td>4.0</td>\n",
       "      <td>52</td>\n",
       "      <td>2</td>\n",
       "    </tr>\n",
       "    <tr>\n",
       "      <th>3</th>\n",
       "      <td>4</td>\n",
       "      <td>Burger Theory</td>\n",
       "      <td>Adelaide</td>\n",
       "      <td>AUSTRALIA</td>\n",
       "      <td>3.5</td>\n",
       "      <td>45</td>\n",
       "      <td>1</td>\n",
       "    </tr>\n",
       "    <tr>\n",
       "      <th>4</th>\n",
       "      <td>5</td>\n",
       "      <td>Etica Ethical Pizzeria &amp; Mozzarella Bar</td>\n",
       "      <td>Adelaide</td>\n",
       "      <td>AUSTRALIA</td>\n",
       "      <td>4.5</td>\n",
       "      <td>42</td>\n",
       "      <td>2</td>\n",
       "    </tr>\n",
       "    <tr>\n",
       "      <th>5</th>\n",
       "      <td>6</td>\n",
       "      <td>Press Food &amp; Wine</td>\n",
       "      <td>Adelaide</td>\n",
       "      <td>AUSTRALIA</td>\n",
       "      <td>4.0</td>\n",
       "      <td>42</td>\n",
       "      <td>3</td>\n",
       "    </tr>\n",
       "    <tr>\n",
       "      <th>6</th>\n",
       "      <td>7</td>\n",
       "      <td>Hey Jupiter</td>\n",
       "      <td>Adelaide</td>\n",
       "      <td>AUSTRALIA</td>\n",
       "      <td>4.0</td>\n",
       "      <td>40</td>\n",
       "      <td>2</td>\n",
       "    </tr>\n",
       "    <tr>\n",
       "      <th>7</th>\n",
       "      <td>8</td>\n",
       "      <td>Cafe Troppo</td>\n",
       "      <td>Adelaide</td>\n",
       "      <td>AUSTRALIA</td>\n",
       "      <td>4.0</td>\n",
       "      <td>41</td>\n",
       "      <td>1</td>\n",
       "    </tr>\n",
       "    <tr>\n",
       "      <th>8</th>\n",
       "      <td>9</td>\n",
       "      <td>Coffee Branch</td>\n",
       "      <td>Adelaide</td>\n",
       "      <td>AUSTRALIA</td>\n",
       "      <td>4.5</td>\n",
       "      <td>38</td>\n",
       "      <td>1</td>\n",
       "    </tr>\n",
       "    <tr>\n",
       "      <th>9</th>\n",
       "      <td>10</td>\n",
       "      <td>Mandoo</td>\n",
       "      <td>Adelaide</td>\n",
       "      <td>AUSTRALIA</td>\n",
       "      <td>4.5</td>\n",
       "      <td>41</td>\n",
       "      <td>2</td>\n",
       "    </tr>\n",
       "    <tr>\n",
       "      <th>...</th>\n",
       "      <td>...</td>\n",
       "      <td>...</td>\n",
       "      <td>...</td>\n",
       "      <td>...</td>\n",
       "      <td>...</td>\n",
       "      <td>...</td>\n",
       "      <td>...</td>\n",
       "    </tr>\n",
       "    <tr>\n",
       "      <th>10059</th>\n",
       "      <td>10060</td>\n",
       "      <td>Kuroge Wagyu Burger BLACOWS</td>\n",
       "      <td>東京</td>\n",
       "      <td>JAPAN</td>\n",
       "      <td>4.0</td>\n",
       "      <td>45</td>\n",
       "      <td>2</td>\n",
       "    </tr>\n",
       "    <tr>\n",
       "      <th>10060</th>\n",
       "      <td>10061</td>\n",
       "      <td>Tsurutontan Roppongi</td>\n",
       "      <td>東京</td>\n",
       "      <td>JAPAN</td>\n",
       "      <td>4.0</td>\n",
       "      <td>36</td>\n",
       "      <td>1</td>\n",
       "    </tr>\n",
       "    <tr>\n",
       "      <th>10061</th>\n",
       "      <td>10062</td>\n",
       "      <td>Clinton Street Baking Company Tokyo</td>\n",
       "      <td>東京</td>\n",
       "      <td>JAPAN</td>\n",
       "      <td>4.0</td>\n",
       "      <td>36</td>\n",
       "      <td>2</td>\n",
       "    </tr>\n",
       "    <tr>\n",
       "      <th>10062</th>\n",
       "      <td>10063</td>\n",
       "      <td>Dhaba India</td>\n",
       "      <td>東京</td>\n",
       "      <td>JAPAN</td>\n",
       "      <td>4.5</td>\n",
       "      <td>39</td>\n",
       "      <td>2</td>\n",
       "    </tr>\n",
       "    <tr>\n",
       "      <th>10063</th>\n",
       "      <td>10064</td>\n",
       "      <td>Yakiniku Izakaya Han no Daidokoro Dōgenzaka</td>\n",
       "      <td>東京</td>\n",
       "      <td>JAPAN</td>\n",
       "      <td>4.5</td>\n",
       "      <td>37</td>\n",
       "      <td>3</td>\n",
       "    </tr>\n",
       "    <tr>\n",
       "      <th>10064</th>\n",
       "      <td>10065</td>\n",
       "      <td>Nabezo Shinjuku 3 Chome</td>\n",
       "      <td>東京</td>\n",
       "      <td>JAPAN</td>\n",
       "      <td>4.5</td>\n",
       "      <td>34</td>\n",
       "      <td>2</td>\n",
       "    </tr>\n",
       "    <tr>\n",
       "      <th>10065</th>\n",
       "      <td>10066</td>\n",
       "      <td>Ippudo Ebisu</td>\n",
       "      <td>東京</td>\n",
       "      <td>JAPAN</td>\n",
       "      <td>4.5</td>\n",
       "      <td>35</td>\n",
       "      <td>1</td>\n",
       "    </tr>\n",
       "    <tr>\n",
       "      <th>10066</th>\n",
       "      <td>10067</td>\n",
       "      <td>Hungry Heaven Meguro</td>\n",
       "      <td>東京</td>\n",
       "      <td>JAPAN</td>\n",
       "      <td>4.5</td>\n",
       "      <td>37</td>\n",
       "      <td>1</td>\n",
       "    </tr>\n",
       "    <tr>\n",
       "      <th>10067</th>\n",
       "      <td>10068</td>\n",
       "      <td>JOMON ROPPONGI</td>\n",
       "      <td>東京</td>\n",
       "      <td>JAPAN</td>\n",
       "      <td>4.5</td>\n",
       "      <td>37</td>\n",
       "      <td>2</td>\n",
       "    </tr>\n",
       "    <tr>\n",
       "      <th>10068</th>\n",
       "      <td>10069</td>\n",
       "      <td>Sushisho Masa</td>\n",
       "      <td>東京</td>\n",
       "      <td>JAPAN</td>\n",
       "      <td>5.0</td>\n",
       "      <td>33</td>\n",
       "      <td>4</td>\n",
       "    </tr>\n",
       "  </tbody>\n",
       "</table>\n",
       "<p>10069 rows × 7 columns</p>\n",
       "</div>"
      ],
      "text/plain": [
       "          id                             Ime restavracije     Mesto  \\\n",
       "0          1                      Adelaide Central Market  Adelaide   \n",
       "1          2                              Jamie’s Italian  Adelaide   \n",
       "2          3                      Bread & Bone Wood Grill  Adelaide   \n",
       "3          4                                Burger Theory  Adelaide   \n",
       "4          5      Etica Ethical Pizzeria & Mozzarella Bar  Adelaide   \n",
       "5          6                            Press Food & Wine  Adelaide   \n",
       "6          7                                  Hey Jupiter  Adelaide   \n",
       "7          8                                  Cafe Troppo  Adelaide   \n",
       "8          9                                Coffee Branch  Adelaide   \n",
       "9         10                                       Mandoo  Adelaide   \n",
       "...      ...                                          ...       ...   \n",
       "10059  10060                  Kuroge Wagyu Burger BLACOWS        東京   \n",
       "10060  10061                         Tsurutontan Roppongi        東京   \n",
       "10061  10062          Clinton Street Baking Company Tokyo        東京   \n",
       "10062  10063                                  Dhaba India        東京   \n",
       "10063  10064  Yakiniku Izakaya Han no Daidokoro Dōgenzaka        東京   \n",
       "10064  10065                      Nabezo Shinjuku 3 Chome        東京   \n",
       "10065  10066                                 Ippudo Ebisu        東京   \n",
       "10066  10067                         Hungry Heaven Meguro        東京   \n",
       "10067  10068                               JOMON ROPPONGI        東京   \n",
       "10068  10069                                Sushisho Masa        東京   \n",
       "\n",
       "          Država  Ocena  Število ocen  Cena  \n",
       "0      AUSTRALIA    4.5            77     1  \n",
       "1      AUSTRALIA    3.0            68     2  \n",
       "2      AUSTRALIA    4.0            52     2  \n",
       "3      AUSTRALIA    3.5            45     1  \n",
       "4      AUSTRALIA    4.5            42     2  \n",
       "5      AUSTRALIA    4.0            42     3  \n",
       "6      AUSTRALIA    4.0            40     2  \n",
       "7      AUSTRALIA    4.0            41     1  \n",
       "8      AUSTRALIA    4.5            38     1  \n",
       "9      AUSTRALIA    4.5            41     2  \n",
       "...          ...    ...           ...   ...  \n",
       "10059      JAPAN    4.0            45     2  \n",
       "10060      JAPAN    4.0            36     1  \n",
       "10061      JAPAN    4.0            36     2  \n",
       "10062      JAPAN    4.5            39     2  \n",
       "10063      JAPAN    4.5            37     3  \n",
       "10064      JAPAN    4.5            34     2  \n",
       "10065      JAPAN    4.5            35     1  \n",
       "10066      JAPAN    4.5            37     1  \n",
       "10067      JAPAN    4.5            37     2  \n",
       "10068      JAPAN    5.0            33     4  \n",
       "\n",
       "[10069 rows x 7 columns]"
      ]
     },
     "execution_count": 4,
     "metadata": {},
     "output_type": "execute_result"
    }
   ],
   "source": [
    "restavracije"
   ]
  },
  {
   "cell_type": "code",
   "execution_count": 5,
   "metadata": {
    "collapsed": false
   },
   "outputs": [
    {
     "data": {
      "text/html": [
       "<div>\n",
       "<table border=\"1\" class=\"dataframe\">\n",
       "  <thead>\n",
       "    <tr style=\"text-align: right;\">\n",
       "      <th></th>\n",
       "      <th>id</th>\n",
       "      <th>Tip restavracije</th>\n",
       "    </tr>\n",
       "  </thead>\n",
       "  <tbody>\n",
       "    <tr>\n",
       "      <th>0</th>\n",
       "      <td>1</td>\n",
       "      <td>Food Court</td>\n",
       "    </tr>\n",
       "    <tr>\n",
       "      <th>1</th>\n",
       "      <td>1</td>\n",
       "      <td>Fruits &amp; Veggies</td>\n",
       "    </tr>\n",
       "    <tr>\n",
       "      <th>2</th>\n",
       "      <td>1</td>\n",
       "      <td>Health Markets</td>\n",
       "    </tr>\n",
       "    <tr>\n",
       "      <th>3</th>\n",
       "      <td>2</td>\n",
       "      <td>Italian</td>\n",
       "    </tr>\n",
       "    <tr>\n",
       "      <th>4</th>\n",
       "      <td>3</td>\n",
       "      <td>American (Traditional)</td>\n",
       "    </tr>\n",
       "    <tr>\n",
       "      <th>5</th>\n",
       "      <td>3</td>\n",
       "      <td>Burgers</td>\n",
       "    </tr>\n",
       "    <tr>\n",
       "      <th>6</th>\n",
       "      <td>4</td>\n",
       "      <td>Burgers</td>\n",
       "    </tr>\n",
       "    <tr>\n",
       "      <th>7</th>\n",
       "      <td>4</td>\n",
       "      <td>American (Traditional)</td>\n",
       "    </tr>\n",
       "    <tr>\n",
       "      <th>8</th>\n",
       "      <td>4</td>\n",
       "      <td>Street Vendors</td>\n",
       "    </tr>\n",
       "    <tr>\n",
       "      <th>9</th>\n",
       "      <td>5</td>\n",
       "      <td>Italian</td>\n",
       "    </tr>\n",
       "    <tr>\n",
       "      <th>...</th>\n",
       "      <td>...</td>\n",
       "      <td>...</td>\n",
       "    </tr>\n",
       "    <tr>\n",
       "      <th>21504</th>\n",
       "      <td>10064</td>\n",
       "      <td>Korean</td>\n",
       "    </tr>\n",
       "    <tr>\n",
       "      <th>21505</th>\n",
       "      <td>10064</td>\n",
       "      <td>Yakiniku</td>\n",
       "    </tr>\n",
       "    <tr>\n",
       "      <th>21506</th>\n",
       "      <td>10064</td>\n",
       "      <td>Horumon</td>\n",
       "    </tr>\n",
       "    <tr>\n",
       "      <th>21507</th>\n",
       "      <td>10065</td>\n",
       "      <td>Sukiyaki</td>\n",
       "    </tr>\n",
       "    <tr>\n",
       "      <th>21508</th>\n",
       "      <td>10065</td>\n",
       "      <td>Hot Pot</td>\n",
       "    </tr>\n",
       "    <tr>\n",
       "      <th>21509</th>\n",
       "      <td>10066</td>\n",
       "      <td>Ramen</td>\n",
       "    </tr>\n",
       "    <tr>\n",
       "      <th>21510</th>\n",
       "      <td>10067</td>\n",
       "      <td>Burgers</td>\n",
       "    </tr>\n",
       "    <tr>\n",
       "      <th>21511</th>\n",
       "      <td>10068</td>\n",
       "      <td>Izakaya</td>\n",
       "    </tr>\n",
       "    <tr>\n",
       "      <th>21512</th>\n",
       "      <td>10068</td>\n",
       "      <td>Sukiyaki</td>\n",
       "    </tr>\n",
       "    <tr>\n",
       "      <th>21513</th>\n",
       "      <td>10069</td>\n",
       "      <td>Sushi Bars</td>\n",
       "    </tr>\n",
       "  </tbody>\n",
       "</table>\n",
       "<p>21514 rows × 2 columns</p>\n",
       "</div>"
      ],
      "text/plain": [
       "          id        Tip restavracije\n",
       "0          1              Food Court\n",
       "1          1        Fruits & Veggies\n",
       "2          1          Health Markets\n",
       "3          2                 Italian\n",
       "4          3  American (Traditional)\n",
       "5          3                 Burgers\n",
       "6          4                 Burgers\n",
       "7          4  American (Traditional)\n",
       "8          4          Street Vendors\n",
       "9          5                 Italian\n",
       "...      ...                     ...\n",
       "21504  10064                  Korean\n",
       "21505  10064                Yakiniku\n",
       "21506  10064                 Horumon\n",
       "21507  10065                Sukiyaki\n",
       "21508  10065                 Hot Pot\n",
       "21509  10066                   Ramen\n",
       "21510  10067                 Burgers\n",
       "21511  10068                 Izakaya\n",
       "21512  10068                Sukiyaki\n",
       "21513  10069              Sushi Bars\n",
       "\n",
       "[21514 rows x 2 columns]"
      ]
     },
     "execution_count": 5,
     "metadata": {},
     "output_type": "execute_result"
    }
   ],
   "source": [
    "tipi"
   ]
  },
  {
   "cell_type": "markdown",
   "metadata": {},
   "source": [
    "Najprej nas zanima, katere restavracije so najboljše. Od restavracij, ki so dobile najvišjo možno oceno 5, si poglejmo najcenejše."
   ]
  },
  {
   "cell_type": "code",
   "execution_count": 11,
   "metadata": {
    "collapsed": false
   },
   "outputs": [
    {
     "data": {
      "text/html": [
       "<div>\n",
       "<table border=\"1\" class=\"dataframe\">\n",
       "  <thead>\n",
       "    <tr style=\"text-align: right;\">\n",
       "      <th></th>\n",
       "      <th>id</th>\n",
       "      <th>Ime restavracije</th>\n",
       "      <th>Mesto</th>\n",
       "      <th>Država</th>\n",
       "      <th>Ocena</th>\n",
       "      <th>Število ocen</th>\n",
       "      <th>Cena</th>\n",
       "    </tr>\n",
       "  </thead>\n",
       "  <tbody>\n",
       "    <tr>\n",
       "      <th>2790</th>\n",
       "      <td>2791</td>\n",
       "      <td>Juana La Cubana Cafe</td>\n",
       "      <td>Fort Lauderdale</td>\n",
       "      <td>FL</td>\n",
       "      <td>5.0</td>\n",
       "      <td>388</td>\n",
       "      <td>1</td>\n",
       "    </tr>\n",
       "    <tr>\n",
       "      <th>7260</th>\n",
       "      <td>7261</td>\n",
       "      <td>Blues City Deli</td>\n",
       "      <td>Saint Louis</td>\n",
       "      <td>MO</td>\n",
       "      <td>5.0</td>\n",
       "      <td>618</td>\n",
       "      <td>1</td>\n",
       "    </tr>\n",
       "    <tr>\n",
       "      <th>4057</th>\n",
       "      <td>4058</td>\n",
       "      <td>Manteigaria</td>\n",
       "      <td>Lisboa</td>\n",
       "      <td>PORTUGAL</td>\n",
       "      <td>5.0</td>\n",
       "      <td>145</td>\n",
       "      <td>1</td>\n",
       "    </tr>\n",
       "    <tr>\n",
       "      <th>4432</th>\n",
       "      <td>4433</td>\n",
       "      <td>Yummy Pollo</td>\n",
       "      <td>Louisville</td>\n",
       "      <td>KY</td>\n",
       "      <td>5.0</td>\n",
       "      <td>239</td>\n",
       "      <td>1</td>\n",
       "    </tr>\n",
       "    <tr>\n",
       "      <th>7195</th>\n",
       "      <td>7196</td>\n",
       "      <td>Pane &amp; Vino</td>\n",
       "      <td>Roma</td>\n",
       "      <td>ITALY</td>\n",
       "      <td>5.0</td>\n",
       "      <td>80</td>\n",
       "      <td>1</td>\n",
       "    </tr>\n",
       "    <tr>\n",
       "      <th>9218</th>\n",
       "      <td>9219</td>\n",
       "      <td>King Mediterrano</td>\n",
       "      <td>Torrance</td>\n",
       "      <td>CA</td>\n",
       "      <td>5.0</td>\n",
       "      <td>728</td>\n",
       "      <td>1</td>\n",
       "    </tr>\n",
       "    <tr>\n",
       "      <th>6923</th>\n",
       "      <td>6924</td>\n",
       "      <td>King Mediterrano</td>\n",
       "      <td>Redondo Beach</td>\n",
       "      <td>CA</td>\n",
       "      <td>5.0</td>\n",
       "      <td>734</td>\n",
       "      <td>1</td>\n",
       "    </tr>\n",
       "    <tr>\n",
       "      <th>580</th>\n",
       "      <td>581</td>\n",
       "      <td>Aviva by Kameel</td>\n",
       "      <td>Atlanta</td>\n",
       "      <td>GA</td>\n",
       "      <td>5.0</td>\n",
       "      <td>708</td>\n",
       "      <td>2</td>\n",
       "    </tr>\n",
       "    <tr>\n",
       "      <th>9102</th>\n",
       "      <td>9103</td>\n",
       "      <td>Little Miss BBQ</td>\n",
       "      <td>Tempe</td>\n",
       "      <td>AZ</td>\n",
       "      <td>5.0</td>\n",
       "      <td>1116</td>\n",
       "      <td>2</td>\n",
       "    </tr>\n",
       "    <tr>\n",
       "      <th>9003</th>\n",
       "      <td>9004</td>\n",
       "      <td>Mocotó</td>\n",
       "      <td>São Paulo</td>\n",
       "      <td>BRAZIL</td>\n",
       "      <td>5.0</td>\n",
       "      <td>74</td>\n",
       "      <td>2</td>\n",
       "    </tr>\n",
       "    <tr>\n",
       "      <th>8770</th>\n",
       "      <td>8771</td>\n",
       "      <td>The Hairy Pig Deli</td>\n",
       "      <td>Stockholm</td>\n",
       "      <td>SWEDEN</td>\n",
       "      <td>5.0</td>\n",
       "      <td>85</td>\n",
       "      <td>2</td>\n",
       "    </tr>\n",
       "    <tr>\n",
       "      <th>6511</th>\n",
       "      <td>6512</td>\n",
       "      <td>Little Miss BBQ</td>\n",
       "      <td>Phoenix</td>\n",
       "      <td>AZ</td>\n",
       "      <td>5.0</td>\n",
       "      <td>1116</td>\n",
       "      <td>2</td>\n",
       "    </tr>\n",
       "    <tr>\n",
       "      <th>3564</th>\n",
       "      <td>3565</td>\n",
       "      <td>Her Soup Kitchen</td>\n",
       "      <td>Iowa City</td>\n",
       "      <td>IA</td>\n",
       "      <td>5.0</td>\n",
       "      <td>155</td>\n",
       "      <td>2</td>\n",
       "    </tr>\n",
       "    <tr>\n",
       "      <th>3293</th>\n",
       "      <td>3294</td>\n",
       "      <td>Guiso Latin Fusion</td>\n",
       "      <td>Healdsburg</td>\n",
       "      <td>CA</td>\n",
       "      <td>5.0</td>\n",
       "      <td>91</td>\n",
       "      <td>2</td>\n",
       "    </tr>\n",
       "    <tr>\n",
       "      <th>1104</th>\n",
       "      <td>1105</td>\n",
       "      <td>Cucina Di Paolo</td>\n",
       "      <td>Boise</td>\n",
       "      <td>ID</td>\n",
       "      <td>5.0</td>\n",
       "      <td>105</td>\n",
       "      <td>2</td>\n",
       "    </tr>\n",
       "    <tr>\n",
       "      <th>684</th>\n",
       "      <td>685</td>\n",
       "      <td>Joe Benny’s</td>\n",
       "      <td>Baltimore</td>\n",
       "      <td>MD</td>\n",
       "      <td>5.0</td>\n",
       "      <td>376</td>\n",
       "      <td>2</td>\n",
       "    </tr>\n",
       "    <tr>\n",
       "      <th>4917</th>\n",
       "      <td>4918</td>\n",
       "      <td>Mr &amp; Mrs Bun</td>\n",
       "      <td>Miami</td>\n",
       "      <td>FL</td>\n",
       "      <td>5.0</td>\n",
       "      <td>665</td>\n",
       "      <td>2</td>\n",
       "    </tr>\n",
       "    <tr>\n",
       "      <th>10052</th>\n",
       "      <td>10053</td>\n",
       "      <td>Jirōmaru</td>\n",
       "      <td>東京</td>\n",
       "      <td>JAPAN</td>\n",
       "      <td>5.0</td>\n",
       "      <td>55</td>\n",
       "      <td>2</td>\n",
       "    </tr>\n",
       "    <tr>\n",
       "      <th>8777</th>\n",
       "      <td>8778</td>\n",
       "      <td>Lilla Ego</td>\n",
       "      <td>Stockholm</td>\n",
       "      <td>SWEDEN</td>\n",
       "      <td>5.0</td>\n",
       "      <td>66</td>\n",
       "      <td>3</td>\n",
       "    </tr>\n",
       "  </tbody>\n",
       "</table>\n",
       "</div>"
      ],
      "text/plain": [
       "          id      Ime restavracije            Mesto    Država  Ocena  \\\n",
       "2790    2791  Juana La Cubana Cafe  Fort Lauderdale        FL    5.0   \n",
       "7260    7261       Blues City Deli      Saint Louis        MO    5.0   \n",
       "4057    4058           Manteigaria           Lisboa  PORTUGAL    5.0   \n",
       "4432    4433           Yummy Pollo       Louisville        KY    5.0   \n",
       "7195    7196           Pane & Vino             Roma     ITALY    5.0   \n",
       "9218    9219      King Mediterrano         Torrance        CA    5.0   \n",
       "6923    6924      King Mediterrano    Redondo Beach        CA    5.0   \n",
       "580      581       Aviva by Kameel          Atlanta        GA    5.0   \n",
       "9102    9103       Little Miss BBQ            Tempe        AZ    5.0   \n",
       "9003    9004                Mocotó        São Paulo    BRAZIL    5.0   \n",
       "8770    8771    The Hairy Pig Deli        Stockholm    SWEDEN    5.0   \n",
       "6511    6512       Little Miss BBQ          Phoenix        AZ    5.0   \n",
       "3564    3565      Her Soup Kitchen        Iowa City        IA    5.0   \n",
       "3293    3294    Guiso Latin Fusion       Healdsburg        CA    5.0   \n",
       "1104    1105       Cucina Di Paolo            Boise        ID    5.0   \n",
       "684      685           Joe Benny’s        Baltimore        MD    5.0   \n",
       "4917    4918          Mr & Mrs Bun            Miami        FL    5.0   \n",
       "10052  10053              Jirōmaru               東京     JAPAN    5.0   \n",
       "8777    8778             Lilla Ego        Stockholm    SWEDEN    5.0   \n",
       "\n",
       "       Število ocen  Cena  \n",
       "2790            388     1  \n",
       "7260            618     1  \n",
       "4057            145     1  \n",
       "4432            239     1  \n",
       "7195             80     1  \n",
       "9218            728     1  \n",
       "6923            734     1  \n",
       "580             708     2  \n",
       "9102           1116     2  \n",
       "9003             74     2  \n",
       "8770             85     2  \n",
       "6511           1116     2  \n",
       "3564            155     2  \n",
       "3293             91     2  \n",
       "1104            105     2  \n",
       "684             376     2  \n",
       "4917            665     2  \n",
       "10052            55     2  \n",
       "8777             66     3  "
      ]
     },
     "execution_count": 11,
     "metadata": {},
     "output_type": "execute_result"
    }
   ],
   "source": [
    "restavracije[(restavracije.Ocena == 5.0) & (restavracije['Število ocen'] > 50)].sort_values('Cena', ascending=True)"
   ]
  },
  {
   "cell_type": "markdown",
   "metadata": {},
   "source": [
    "Vsaka restavracija spada v določen cenovni razred od 1 do 4 in vsak gost lahko oceni restavracijo z 1 do 5 zvezdicami. Zanima nas, ali cena restavracije vpliva na višino ocene. Za vsak cenovni razred izračunamo povprečno oceno."
   ]
  },
  {
   "cell_type": "code",
   "execution_count": 15,
   "metadata": {
    "collapsed": false
   },
   "outputs": [
    {
     "data": {
      "text/plain": [
       "<matplotlib.axes._subplots.AxesSubplot at 0x8682c775c0>"
      ]
     },
     "execution_count": 15,
     "metadata": {},
     "output_type": "execute_result"
    },
    {
     "data": {
      "image/png": "[encoded data removed]",
      "text/plain": [
       "<matplotlib.figure.Figure at 0x8682ccc630>"
      ]
     },
     "metadata": {},
     "output_type": "display_data"
    }
   ],
   "source": [
    "po_ceni = restavracije[['Ocena', 'Cena']].groupby('Cena').mean()\n",
    "po_ceni.plot(kind='bar')"
   ]
  },
  {
   "cell_type": "markdown",
   "metadata": {},
   "source": [
    "Zanima nas kateri tipi restavracij so najpogostejši:"
   ]
  },
  {
   "cell_type": "code",
   "execution_count": 18,
   "metadata": {
    "collapsed": false
   },
   "outputs": [
    {
     "data": {
      "text/plain": [
       "<matplotlib.axes._subplots.AxesSubplot at 0x86832060b8>"
      ]
     },
     "execution_count": 18,
     "metadata": {},
     "output_type": "execute_result"
    },
    {
     "data": {
      "image/png": "[encoded data removed]",
      "text/plain": [
       "<matplotlib.figure.Figure at 0x86831c17f0>"
      ]
     },
     "metadata": {},
     "output_type": "display_data"
    }
   ],
   "source": [
    "sestavljena = pd.merge(restavracije, tipi)\n",
    "pogostost = sestavljena.groupby('Tip restavracije').count()['id'].sort_values(ascending=False)\n",
    "pogostost[:20].plot.bar(x='Tip restavracije')"
   ]
  },
  {
   "cell_type": "markdown",
   "metadata": {},
   "source": [
    "Poleg tega nas zanima tudi zastopanost tipov v posameznih državah. Kateri tip restavracije je na primer v posamezni državi najbolj zastopan?"
   ]
  },
  {
   "cell_type": "code",
   "execution_count": 54,
   "metadata": {
    "collapsed": false
   },
   "outputs": [
    {
     "data": {
      "text/html": [
       "<div>\n",
       "<table border=\"1\" class=\"dataframe\">\n",
       "  <thead>\n",
       "    <tr style=\"text-align: right;\">\n",
       "      <th></th>\n",
       "      <th>Država</th>\n",
       "      <th>Tip</th>\n",
       "    </tr>\n",
       "  </thead>\n",
       "  <tbody>\n",
       "    <tr>\n",
       "      <th>0</th>\n",
       "      <td>ARGENTINA</td>\n",
       "      <td>Argentine</td>\n",
       "    </tr>\n",
       "    <tr>\n",
       "      <th>1</th>\n",
       "      <td>AUSTRALIA</td>\n",
       "      <td>Bars</td>\n",
       "    </tr>\n",
       "    <tr>\n",
       "      <th>2</th>\n",
       "      <td>AUSTRIA</td>\n",
       "      <td>Austrian</td>\n",
       "    </tr>\n",
       "    <tr>\n",
       "      <th>3</th>\n",
       "      <td>AZ</td>\n",
       "      <td>American (New)</td>\n",
       "    </tr>\n",
       "    <tr>\n",
       "      <th>4</th>\n",
       "      <td>BELGIUM</td>\n",
       "      <td>Belgian</td>\n",
       "    </tr>\n",
       "    <tr>\n",
       "      <th>5</th>\n",
       "      <td>BRAZIL</td>\n",
       "      <td>Brazilian</td>\n",
       "    </tr>\n",
       "    <tr>\n",
       "      <th>6</th>\n",
       "      <td>CA</td>\n",
       "      <td>American (New)</td>\n",
       "    </tr>\n",
       "    <tr>\n",
       "      <th>7</th>\n",
       "      <td>CANADA</td>\n",
       "      <td>Canadian (New)</td>\n",
       "    </tr>\n",
       "    <tr>\n",
       "      <th>8</th>\n",
       "      <td>CHILE</td>\n",
       "      <td>Chilean</td>\n",
       "    </tr>\n",
       "    <tr>\n",
       "      <th>9</th>\n",
       "      <td>CO</td>\n",
       "      <td>American (New)</td>\n",
       "    </tr>\n",
       "    <tr>\n",
       "      <th>...</th>\n",
       "      <td>...</td>\n",
       "      <td>...</td>\n",
       "    </tr>\n",
       "    <tr>\n",
       "      <th>50</th>\n",
       "      <td>SWITZERLAND</td>\n",
       "      <td>Bars</td>\n",
       "    </tr>\n",
       "    <tr>\n",
       "      <th>51</th>\n",
       "      <td>TAIWAN</td>\n",
       "      <td>Taiwanese</td>\n",
       "    </tr>\n",
       "    <tr>\n",
       "      <th>52</th>\n",
       "      <td>TN</td>\n",
       "      <td>Southern</td>\n",
       "    </tr>\n",
       "    <tr>\n",
       "      <th>53</th>\n",
       "      <td>TURKEY</td>\n",
       "      <td>Turkish</td>\n",
       "    </tr>\n",
       "    <tr>\n",
       "      <th>54</th>\n",
       "      <td>TX</td>\n",
       "      <td>American (New)</td>\n",
       "    </tr>\n",
       "    <tr>\n",
       "      <th>55</th>\n",
       "      <td>UT</td>\n",
       "      <td>Breakfast &amp; Brunch</td>\n",
       "    </tr>\n",
       "    <tr>\n",
       "      <th>56</th>\n",
       "      <td>VA</td>\n",
       "      <td>American (New)</td>\n",
       "    </tr>\n",
       "    <tr>\n",
       "      <th>57</th>\n",
       "      <td>VT</td>\n",
       "      <td>American (New)</td>\n",
       "    </tr>\n",
       "    <tr>\n",
       "      <th>58</th>\n",
       "      <td>WA</td>\n",
       "      <td>American (New)</td>\n",
       "    </tr>\n",
       "    <tr>\n",
       "      <th>59</th>\n",
       "      <td>WI</td>\n",
       "      <td>American (New)</td>\n",
       "    </tr>\n",
       "  </tbody>\n",
       "</table>\n",
       "<p>60 rows × 2 columns</p>\n",
       "</div>"
      ],
      "text/plain": [
       "         Država                 Tip\n",
       "0     ARGENTINA           Argentine\n",
       "1     AUSTRALIA                Bars\n",
       "2       AUSTRIA            Austrian\n",
       "3            AZ      American (New)\n",
       "4       BELGIUM             Belgian\n",
       "5        BRAZIL           Brazilian\n",
       "6            CA      American (New)\n",
       "7        CANADA      Canadian (New)\n",
       "8         CHILE             Chilean\n",
       "9            CO      American (New)\n",
       "..          ...                 ...\n",
       "50  SWITZERLAND                Bars\n",
       "51       TAIWAN           Taiwanese\n",
       "52           TN            Southern\n",
       "53       TURKEY             Turkish\n",
       "54           TX      American (New)\n",
       "55           UT  Breakfast & Brunch\n",
       "56           VA      American (New)\n",
       "57           VT      American (New)\n",
       "58           WA      American (New)\n",
       "59           WI      American (New)\n",
       "\n",
       "[60 rows x 2 columns]"
      ]
     },
     "execution_count": 54,
     "metadata": {},
     "output_type": "execute_result"
    }
   ],
   "source": [
    "zastopanost_tipov = sestavljena.groupby(['Država', 'Tip restavracije']).size()\n",
    "matrika_zastopanosti = zastopanost_tipov.unstack()\n",
    "zastopanost = matrika_zastopanosti.idxmax(axis=1)\n",
    "tabela_zastopanosti = pd.DataFrame({'Država':zastopanost.index, 'Tip':zastopanost.values})\n",
    "tabela_zastopanosti"
   ]
  },
  {
   "cell_type": "markdown",
   "metadata": {},
   "source": [
    "Restavracije so najdražje v Čilu in najcenejše na Japonskem. Najbolje so bile ocenjene na Japonskem, najslabše pa v ameriški zvezni državi New Jersey."
   ]
  },
  {
   "cell_type": "code",
   "execution_count": 36,
   "metadata": {
    "collapsed": false
   },
   "outputs": [
    {
     "data": {
      "text/plain": [
       "<matplotlib.axes._subplots.AxesSubplot at 0x8685d98da0>"
      ]
     },
     "execution_count": 36,
     "metadata": {},
     "output_type": "execute_result"
    },
    {
     "data": {
      "image/png": "[encoded data removed]",
      "text/plain": [
       "<matplotlib.figure.Figure at 0x8685d8dc18>"
      ]
     },
     "metadata": {},
     "output_type": "display_data"
    }
   ],
   "source": [
    "po_drzavah1 = restavracije.groupby('Država').mean()['Cena'].sort_values(ascending=False)[:20]\n",
    "tabela_po_drzavah1 = pd.DataFrame({'Država':po_drzavah1.index, 'Povprečen cenovni razred':po_drzavah1.values})\n",
    "tabela_po_drzavah1.plot.bar(x='Država')"
   ]
  },
  {
   "cell_type": "code",
   "execution_count": 38,
   "metadata": {
    "collapsed": false
   },
   "outputs": [
    {
     "data": {
      "text/plain": [
       "<matplotlib.axes._subplots.AxesSubplot at 0x8685eed978>"
      ]
     },
     "execution_count": 38,
     "metadata": {},
     "output_type": "execute_result"
    },
    {
     "data": {
      "image/png": "[encoded data removed]",
      "text/plain": [
       "<matplotlib.figure.Figure at 0x8685f20c50>"
      ]
     },
     "metadata": {},
     "output_type": "display_data"
    }
   ],
   "source": [
    "po_drzavah2 = restavracije.groupby('Država').mean()['Cena'].sort_values(ascending=True)[:20]\n",
    "tabela_po_drzavah2 = pd.DataFrame({'Država':po_drzavah2.index, 'Povprečen cenovni razred':po_drzavah2.values})\n",
    "tabela_po_drzavah2.plot.bar(x='Država')"
   ]
  },
  {
   "cell_type": "code",
   "execution_count": 39,
   "metadata": {
    "collapsed": false
   },
   "outputs": [
    {
     "data": {
      "text/plain": [
       "<matplotlib.axes._subplots.AxesSubplot at 0x8685f98e48>"
      ]
     },
     "execution_count": 39,
     "metadata": {},
     "output_type": "execute_result"
    },
    {
     "data": {
      "image/png": "[encoded data removed]",
      "text/plain": [
       "<matplotlib.figure.Figure at 0x8686002400>"
      ]
     },
     "metadata": {},
     "output_type": "display_data"
    }
   ],
   "source": [
    "po_drzavah3 = restavracije.groupby('Država').mean()['Ocena'].sort_values(ascending=False)[:20]\n",
    "tabela_po_drzavah3 = pd.DataFrame({'Država':po_drzavah3.index, 'Povprečna ocena':po_drzavah3.values})\n",
    "tabela_po_drzavah3.plot.bar(x='Država')"
   ]
  },
  {
   "cell_type": "code",
   "execution_count": 40,
   "metadata": {
    "collapsed": false
   },
   "outputs": [
    {
     "data": {
      "text/plain": [
       "<matplotlib.axes._subplots.AxesSubplot at 0x8685c195f8>"
      ]
     },
     "execution_count": 40,
     "metadata": {},
     "output_type": "execute_result"
    },
    {
     "data": {
      "image/png": "[encoded data removed]",
      "text/plain": [
       "<matplotlib.figure.Figure at 0x868606e438>"
      ]
     },
     "metadata": {},
     "output_type": "display_data"
    }
   ],
   "source": [
    "po_drzavah4 = restavracije.groupby('Država').mean()['Ocena'].sort_values(ascending=True)[:20]\n",
    "tabela_po_drzavah4 = pd.DataFrame({'Država':po_drzavah4.index, 'Povprečna ocena':po_drzavah4.values})\n",
    "tabela_po_drzavah4.plot.bar(x='Država')"
   ]
  },
  {
   "cell_type": "markdown",
   "metadata": {},
   "source": [
    "Najbolje ocenjeni in najdražji tipi restavracij:"
   ]
  },
  {
   "cell_type": "code",
   "execution_count": 9,
   "metadata": {
    "collapsed": false
   },
   "outputs": [
    {
     "data": {
      "text/plain": [
       "Tip restavracije\n",
       "Yakiniku            4.80\n",
       "Horumon             4.75\n",
       "Imported Food       4.75\n",
       "Kaiseki             4.50\n",
       "Dumplings           4.50\n",
       "Tablao Flamenco     4.50\n",
       "Syrian              4.50\n",
       "Friterie            4.50\n",
       "Fruits & Veggies    4.50\n",
       "Galician            4.50\n",
       "Georgian            4.50\n",
       "Guest Houses        4.50\n",
       "Hawker Centre       4.50\n",
       "South African       4.50\n",
       "Soba                4.50\n",
       "Hostels             4.50\n",
       "Custom Cakes        4.50\n",
       "Internet Cafes      4.50\n",
       "Shopping            4.50\n",
       "Kopitiam            4.50\n",
       "Name: Ocena, dtype: float64"
      ]
     },
     "execution_count": 9,
     "metadata": {},
     "output_type": "execute_result"
    }
   ],
   "source": [
    "ocene_tipov = sestavljena.groupby('Tip restavracije').mean()['Ocena'].sort_values(ascending=False)\n",
    "ocene_tipov[:20]"
   ]
  },
  {
   "cell_type": "code",
   "execution_count": 10,
   "metadata": {
    "collapsed": false
   },
   "outputs": [
    {
     "data": {
      "text/plain": [
       "Tip restavracije\n",
       "Rodizios                3.666667\n",
       "Dinner Theater          3.500000\n",
       "Lumbard                 3.000000\n",
       "Sardinian               3.000000\n",
       "Northern German         3.000000\n",
       "Speakeasies             3.000000\n",
       "Guest Houses            3.000000\n",
       "Oaxacan                 3.000000\n",
       "Nikkei                  3.000000\n",
       "Cooking Schools         3.000000\n",
       "Tablao Flamenco         3.000000\n",
       "Arroceria / Paella      3.000000\n",
       "Wine Tasting Classes    3.000000\n",
       "Nightlife               3.000000\n",
       "Chilean                 2.888889\n",
       "Hotels                  2.833333\n",
       "Steakhouses             2.807317\n",
       "Performing Arts         2.800000\n",
       "Fondue                  2.769231\n",
       "Modern Australian       2.764706\n",
       "Name: Cena, dtype: float64"
      ]
     },
     "execution_count": 10,
     "metadata": {},
     "output_type": "execute_result"
    }
   ],
   "source": [
    "cenovni_razredi_tipov = sestavljena.groupby('Tip restavracije').mean()['Cena'].sort_values(ascending=False)\n",
    "cenovni_razredi_tipov[:20]"
   ]
  },
  {
   "cell_type": "markdown",
   "metadata": {},
   "source": [
    "Ordinatna os predstavlja število restavracij posameznega tipa, abscisna os pa povprečno oceno restavracij posameznega tipa restavracije. Vidimo, da so bili najpogostejši tipi ocenjeni z oceno okrog 4."
   ]
  },
  {
   "cell_type": "code",
   "execution_count": 11,
   "metadata": {
    "collapsed": false
   },
   "outputs": [
    {
     "data": {
      "text/plain": [
       "<matplotlib.axes._subplots.AxesSubplot at 0x4bd9fca7f0>"
      ]
     },
     "execution_count": 11,
     "metadata": {},
     "output_type": "execute_result"
    },
    {
     "data": {
      "image/png": "[encoded data removed]",
      "text/plain": [
       "<matplotlib.figure.Figure at 0x4bd9f3d400>"
      ]
     },
     "metadata": {},
     "output_type": "display_data"
    }
   ],
   "source": [
    "tabela_ocen_tipov = pd.DataFrame({'Tip restavracije':ocene_tipov.index, 'Povprečna ocena':ocene_tipov.values})\n",
    "tabela_pogostosti = pd.DataFrame({'Tip restavracije':pogostost.index, 'Število':pogostost.values})\n",
    "pd.merge(tabela_ocen_tipov, tabela_pogostosti).sort_values('Število', ascending=False).plot.scatter(x='Povprečna ocena', y='Število')"
   ]
  },
  {
   "cell_type": "code",
   "execution_count": null,
   "metadata": {
    "collapsed": false
   },
   "outputs": [],
   "source": []
  }
 ],
 "metadata": {
  "kernelspec": {
   "display_name": "Python 3",
   "language": "python",
   "name": "python3"
  },
  "language_info": {
   "codemirror_mode": {
    "name": "ipython",
    "version": 3
   },
   "file_extension": ".py",
   "mimetype": "text/x-python",
   "name": "python",
   "nbconvert_exporter": "python",
   "pygments_lexer": "ipython3",
   "version": "3.5.1"
  }
 },
 "nbformat": 4,
 "nbformat_minor": 1
}
